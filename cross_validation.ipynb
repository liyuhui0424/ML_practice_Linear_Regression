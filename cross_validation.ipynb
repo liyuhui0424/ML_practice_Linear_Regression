{
 "cells": [
  {
   "cell_type": "code",
   "execution_count": 55,
   "metadata": {},
   "outputs": [],
   "source": [
    "import pandas as pd\n",
    "\n",
    "df = pd.read_csv('../data/sales.csv')\n",
    "df.dropna(subset=['price'], inplace=True)"
   ]
  },
  {
   "cell_type": "code",
   "execution_count": 56,
   "metadata": {},
   "outputs": [],
   "source": [
    "df['year'] = pd.to_datetime(df.purchase_date).dt.year\n",
    "train_raw = df[df.year < 2015].reset_index(drop=True)\n",
    "test_raw = df[df.year >= 2015].reset_index(drop=True)"
   ]
  },
  {
   "cell_type": "code",
   "execution_count": 57,
   "metadata": {},
   "outputs": [],
   "source": [
    "class Cost_Transformer(object):\n",
    "    \n",
    "    def fit(self, X, y=None):\n",
    "        df = pd.DataFrame()\n",
    "        df['cost'] = X.cost.map(self.cost2num)\n",
    "        self.mean = df.mean()\n",
    "        \n",
    "    def transform(self, X, y=None):\n",
    "        df = pd.DataFrame()\n",
    "        df['cost'] = X.cost.map(self.cost2num)\n",
    "        return df.fillna(self.mean)\n",
    "    \n",
    "    def fit_transform(self, X, y=None):\n",
    "        self.fit(X)\n",
    "        return self.transform(X)\n",
    "\n",
    "    def cost2num(self, x):\n",
    "        if type(x) == str: \n",
    "            x = x.strip('$').strip('k')\n",
    "            return float(x)*1000\n",
    "        else:\n",
    "            return x"
   ]
  },
  {
   "cell_type": "code",
   "execution_count": 58,
   "metadata": {},
   "outputs": [],
   "source": [
    "features = list(train_raw.columns)\n",
    "target = 'price'\n",
    "features.remove(target)"
   ]
  },
  {
   "cell_type": "code",
   "execution_count": 59,
   "metadata": {},
   "outputs": [],
   "source": [
    "def price2num(x):\n",
    "    if type(x) == str: \n",
    "        x = x.strip('$').replace(',', '')\n",
    "    return float(x)"
   ]
  },
  {
   "cell_type": "code",
   "execution_count": 60,
   "metadata": {},
   "outputs": [],
   "source": [
    "X = train_raw[features]\n",
    "y = train_raw[target].map(price2num)\n",
    "\n",
    "X_test = test_raw[features]\n",
    "y_test = test_raw[target].map(price2num)"
   ]
  },
  {
   "cell_type": "markdown",
   "metadata": {},
   "source": [
    "# 1. train_test_split"
   ]
  },
  {
   "cell_type": "code",
   "execution_count": 61,
   "metadata": {},
   "outputs": [],
   "source": [
    "from sklearn.model_selection import train_test_split"
   ]
  },
  {
   "cell_type": "markdown",
   "metadata": {},
   "source": [
    "**Example:** Split training data in to new training data and validation data."
   ]
  },
  {
   "cell_type": "code",
   "execution_count": 62,
   "metadata": {},
   "outputs": [],
   "source": [
    "X_train, X_valid, y_train, y_valid = train_test_split(X, \n",
    "                                                      y, \n",
    "                                                      test_size=0.2, \n",
    "                                                      random_state=2019)"
   ]
  },
  {
   "cell_type": "markdown",
   "metadata": {},
   "source": [
    "**Example:** Find the best **alpha** for Lasso using **validation score**."
   ]
  },
  {
   "cell_type": "code",
   "execution_count": 63,
   "metadata": {},
   "outputs": [],
   "source": [
    "from sklearn.pipeline import Pipeline\n",
    "from sklearn.linear_model import Lasso\n",
    "from sklearn.preprocessing import PolynomialFeatures, MinMaxScaler\n",
    "from sklearn.metrics import mean_squared_error"
   ]
  },
  {
   "cell_type": "code",
   "execution_count": 64,
   "metadata": {},
   "outputs": [],
   "source": [
    "alphas = range(1, 30)\n",
    "mse = []\n",
    "for alpha in alphas:\n",
    "    steps = [('ctf', Cost_Transformer()),\n",
    "             ('poly', PolynomialFeatures(degree=30)),\n",
    "             ('rescale', MinMaxScaler()),\n",
    "             ('lr', Lasso(alpha=alpha, max_iter=100000))]\n",
    "    model = Pipeline(steps)\n",
    "    model = model.fit(X_train, y_train)\n",
    "    mse.append(mean_squared_error(y_valid, model.predict(X_valid)))"
   ]
  },
  {
   "cell_type": "code",
   "execution_count": 65,
   "metadata": {},
   "outputs": [],
   "source": [
    "import matplotlib.pylab as plt\n",
    "%matplotlib inline"
   ]
  },
  {
   "cell_type": "code",
   "execution_count": 66,
   "metadata": {},
   "outputs": [
    {
     "data": {
      "text/plain": [
       "[<matplotlib.lines.Line2D at 0x1526cc01430>]"
      ]
     },
     "execution_count": 66,
     "metadata": {},
     "output_type": "execute_result"
    },
    {
     "data": {
      "image/png": "[encoded data removed]",
      "text/plain": [
       "<Figure size 640x480 with 1 Axes>"
      ]
     },
     "metadata": {},
     "output_type": "display_data"
    }
   ],
   "source": [
    "plt.plot(alphas, mse)"
   ]
  },
  {
   "cell_type": "markdown",
   "metadata": {},
   "source": [
    "<font color='red'>Question:</font> What are training, validation, and testing data for? Why don't we directly use testing score/loss to find the best **alpha**?"
   ]
  },
  {
   "cell_type": "code",
   "execution_count": 67,
   "metadata": {},
   "outputs": [],
   "source": [
    "#Training data are used for fitting the coefficients for model in a given (set) of hyperparameter.\n",
    "#Validation data are used for selecting the best hyperparameter (set) for the model.\n",
    "#Test data are used for testing the prediction power of the trained model.\n",
    "#Both the training and validation data are used for training the model, the testing data can't not be used in the training."
   ]
  },
  {
   "cell_type": "markdown",
   "metadata": {},
   "source": [
    "# 2. K-fold Cross Validation"
   ]
  },
  {
   "cell_type": "markdown",
   "metadata": {},
   "source": [
    "<font color='red'>Assignment:</font> Use **KFold** instead of **train_test_split** to find the best **alpha**. Please note that X is a DataFrame rather than Numpy Array. Our solution will be a little different from the example in Sklearn tutorial. You will need **iloc** here."
   ]
  },
  {
   "cell_type": "code",
   "execution_count": 68,
   "metadata": {},
   "outputs": [],
   "source": [
    "from sklearn.model_selection import KFold\n",
    "\n",
    "\n",
    "kf = KFold(n_splits=5, shuffle=True, random_state=2022)\n",
    "\n",
    "\"\"\"\n",
    "for i, (train_index, test_index) in enumerate(kf.split(range(len(X_train)))):\n",
    "    print(f\"Fold {i}:\")\n",
    "    print(f\"  Train: {len(train_index)}\")\n",
    "    print(f\"  Test:  {len(test_index)}\")\n",
    "\"\"\"\n",
    "\n",
    "alphas = range(1, 30)\n",
    "mse = []\n",
    "for alpha in alphas:\n",
    "    steps = [('ctf', Cost_Transformer()),\n",
    "             ('poly', PolynomialFeatures(degree=30)),\n",
    "             ('rescale', MinMaxScaler()),\n",
    "             ('lr', Lasso(alpha=alpha, max_iter=100000))]\n",
    "    mse_alpha = []\n",
    "    for i, (train_index, valid_index) in enumerate(kf.split(range(len(X)))):\n",
    "        model = Pipeline(steps)\n",
    "        model = model.fit(X.iloc[train_index], y.iloc[train_index])\n",
    "        mse_alpha.append(mean_squared_error(y.iloc[valid_index], model.predict(X.iloc[valid_index])))\n",
    "    #mse.append(sum(mse_alpha)/len(mse_alpha))\n",
    "    mse.append(mse_alpha)"
   ]
  },
  {
   "cell_type": "code",
   "execution_count": 69,
   "metadata": {},
   "outputs": [],
   "source": [
    "import statistics\n",
    "mse_mean = []\n",
    "for i in range(len(alphas)):\n",
    "    mse_mean.append(statistics.mean(mse[i]))"
   ]
  },
  {
   "cell_type": "code",
   "execution_count": 70,
   "metadata": {},
   "outputs": [
    {
     "data": {
      "text/plain": [
       "[<matplotlib.lines.Line2D at 0x1526ca54c40>]"
      ]
     },
     "execution_count": 70,
     "metadata": {},
     "output_type": "execute_result"
    },
    {
     "data": {
      "image/png": "[encoded data removed]",
      "text/plain": [
       "<Figure size 640x480 with 1 Axes>"
      ]
     },
     "metadata": {},
     "output_type": "display_data"
    }
   ],
   "source": [
    "plt.plot(alphas, mse_mean)"
   ]
  },
  {
   "cell_type": "markdown",
   "metadata": {},
   "source": [
    "<font color='red'>Question:</font> What is the difference between **KFold** and **train_test_split**? What is the advantages and disadvanteges of k-fold cross validation?"
   ]
  },
  {
   "cell_type": "code",
   "execution_count": 71,
   "metadata": {},
   "outputs": [],
   "source": [
    "# In contrast to train_test_split in which a subset of the data is set to be used as validation data while the other to be used \n",
    "# as training data; KFold splits the data to n folds and repeats the train-validate process n times where in each time one \n",
    "# fold of the data is used as validation data while the other is used as training data.\n",
    "#\n",
    "#The advantage of k-fold is reduce the variance from the spliting of data, so the estimation of the function loss is more \n",
    "#reliable. The disadvantage is the computation time is increased k times."
   ]
  },
  {
   "cell_type": "markdown",
   "metadata": {},
   "source": [
    "# 3. GridSearchCV"
   ]
  },
  {
   "cell_type": "markdown",
   "metadata": {},
   "source": [
    "<font color='red'>Assignment:</font> By now, we have only tuned the value of **alpha**. Actually, **degree** in **PolynomialFeatures** is also a hyper parameter. Can we find the best values for both of them? You can try to use **GridSearchCV**, and also **make_scorer**."
   ]
  },
  {
   "cell_type": "code",
   "execution_count": 80,
   "metadata": {},
   "outputs": [
    {
     "name": "stdout",
     "output_type": "stream",
     "text": [
      "MAE: 33907924260.98915\n",
      "Config: {'poly__degree': 29, 'ri__alpha': 5.0}\n"
     ]
    }
   ],
   "source": [
    "from sklearn.model_selection import RepeatedKFold,GridSearchCV\n",
    "from sklearn.metrics import make_scorer\n",
    "import numpy as np\n",
    "from sklearn.linear_model import Ridge\n",
    "\n",
    "steps = [('ctf', Cost_Transformer()),\n",
    "         ('poly', PolynomialFeatures()),\n",
    "         ('rescale', MinMaxScaler()),\n",
    "         ('ri', Ridge(max_iter=10000))]\n",
    "model = Pipeline(steps)\n",
    "\n",
    "scorer_method = make_scorer(mean_squared_error)\n",
    "\n",
    "#cv = RepeatedKFold(n_splits=10, n_repeats=3, random_state=1)\n",
    "kf = KFold(n_splits=5, shuffle=True, random_state=2022)\n",
    "#lasso_alphas = np.linspace(0, 30, 31)\n",
    "#poly_degree = np.linspace(1, 30, 30)\n",
    "#lasso_alphas = np.linspace(1, 30, 30)\n",
    "ridge_alphas = np.linspace(1, 30, 30)\n",
    "poly_degree = range(1, 30)\n",
    "grid = dict()\n",
    "#grid['lr__alpha'] = lasso_alphas \n",
    "grid['ri__alpha'] = ridge_alphas \n",
    "grid['poly__degree'] = poly_degree \n",
    "\n",
    "search = GridSearchCV(model, param_grid = grid, scoring = scorer_method, \\\n",
    "                      cv = kf, n_jobs = -1, error_score = np.NaN).fit(X, y)\n",
    "\n",
    "print('MAE: %.5f' % search.best_score_)\n",
    "print('Config: %s' % search.best_params_)"
   ]
  },
  {
   "cell_type": "code",
   "execution_count": 81,
   "metadata": {},
   "outputs": [
    {
     "name": "stdout",
     "output_type": "stream",
     "text": [
      "test MSE: 5.33e+10\n"
     ]
    }
   ],
   "source": [
    "y_test_pred = search.predict(X_test)\n",
    "print('test MSE: {0:.2e}'.format(mean_squared_error(y_test, y_test_pred)))"
   ]
  },
  {
   "cell_type": "code",
   "execution_count": null,
   "metadata": {},
   "outputs": [],
   "source": []
  }
 ],
 "metadata": {
  "kernelspec": {
   "display_name": "Python 3 (ipykernel)",
   "language": "python",
   "name": "python3"
  },
  "language_info": {
   "codemirror_mode": {
    "name": "ipython",
    "version": 3
   },
   "file_extension": ".py",
   "mimetype": "text/x-python",
   "name": "python",
   "nbconvert_exporter": "python",
   "pygments_lexer": "ipython3",
   "version": "3.9.13"
  }
 },
 "nbformat": 4,
 "nbformat_minor": 2
}
